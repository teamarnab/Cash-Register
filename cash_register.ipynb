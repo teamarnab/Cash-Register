{
  "nbformat": 4,
  "nbformat_minor": 0,
  "metadata": {
    "colab": {
      "provenance": []
    },
    "kernelspec": {
      "name": "python3",
      "display_name": "Python 3"
    },
    "language_info": {
      "name": "python"
    }
  },
  "cells": [
    {
      "cell_type": "code",
      "execution_count": 1,
      "metadata": {
        "id": "kvQTszvUgSpP",
        "colab": {
          "base_uri": "https://localhost:8080/",
          "height": 123
        },
        "outputId": "a5dd526d-a502-4f54-effa-96597360d44a"
      },
      "outputs": [
        {
          "output_type": "execute_result",
          "data": {
            "text/plain": [
              "\"\\nProblem statement\\n1. Create a program for a cashier machine.\\n2. The program will log entries of total cash received by calculating total number of units of different denominations.\\n3. In the same way machine can return balance by calculating total number of units of different denominations.\\n4. Machine would be able to log all transaction in the day and print a report at the end of day.\\n\\n\\n\\nSteps followed\\n1. Created a function that will have the following.\\n  i. A list with all available denominations of currency in it.\\n  ii. A for loop that will iterate through the denomination list and take input from\\n      user for each denomination how many notes or coins were accepted/given and \\n      return a total of money received/given.  \\n2. Created two lists 'Credits and 'Debits' to log in the credit and debit amount accordingly\\n   and a variable 'Beginning balance' to check the balance at the beginning and closing of the day.\\n3. A while loop to keep the program running as long as the user wants. \\n4. If-else statement coupled with while loop to throw user an error when an invalid input \\n   is received.  \\n\""
            ],
            "application/vnd.google.colaboratory.intrinsic+json": {
              "type": "string"
            }
          },
          "metadata": {},
          "execution_count": 1
        }
      ],
      "source": [
        "'''\n",
        "Problem statement\n",
        "1. Create a program for a cashier machine.\n",
        "2. The program will log entries of total cash received by calculating total number of units of different denominations.\n",
        "3. In the same way machine can return balance by calculating total number of units of different denominations.\n",
        "4. Machine would be able to log all transaction in the day and print a report at the end of day.\n",
        "\n",
        "\n",
        "\n",
        "Steps followed\n",
        "1. Created a function that will have the following.\n",
        "  i. A list with all available denominations of currency in it.\n",
        "  ii. A for loop that will iterate through the denomination list and take input from\n",
        "      user for each denomination how many notes or coins were accepted/given and\n",
        "      return a total of money received/given.\n",
        "2. Created two lists 'Credits and 'Debits' to log in the credit and debit amount accordingly\n",
        "   and a variable 'Beginning balance' to check the balance at the beginning and closing of the day.\n",
        "3. A while loop to keep the program running as long as the user wants.\n",
        "4. If-else statement coupled with while loop to throw user an error when an invalid input\n",
        "   is received.\n",
        "'''"
      ]
    },
    {
      "cell_type": "code",
      "source": [
        "def count_money():\n",
        "  denominations = [1, 2, 5, 10, 20, 50, 100, 200, 500]\n",
        "\n",
        "  total_money = 0\n",
        "\n",
        "  for denomination in denominations:\n",
        "    number = input(f\"Number of {denomination} rupee: \")\n",
        "    if number != \"\":\n",
        "      total_count = int(number) * denomination\n",
        "      total_money += total_count\n",
        "\n",
        "  return total_money\n",
        "\n",
        "credits = []\n",
        "debits = []\n",
        "\n",
        "beginning_balance = int(input(\"Enter beginning balance: \"))\n",
        "\n",
        "cash_register_on = True\n",
        "\n",
        "while cash_register_on:\n",
        "  print(\"Press '1' to enter transaction\")\n",
        "  print(\"Press '2' to check balance\")\n",
        "  print(\"Press '3' to print statement\")\n",
        "  print(\"Press '4' to turn off machine\")\n",
        "  enter_or_check = int(input(\"Enter Transaction or Check Balance (1/2): \"))\n",
        "  if enter_or_check in range(1, 5):\n",
        "    if enter_or_check == 1:\n",
        "      print(\"Enter cash amount received:\")\n",
        "      cash_received = count_money()\n",
        "      beginning_balance += cash_received\n",
        "      credits.append(cash_received)\n",
        "\n",
        "      print(\"Enter cash amount given:\")\n",
        "      cash_returned = count_money()\n",
        "      beginning_balance -= cash_returned\n",
        "      debits.append(cash_returned)\n",
        "\n",
        "      print(f\"Updated balance is: {beginning_balance}\")\n",
        "    elif enter_or_check == 2:\n",
        "      print(f\"Total balance is {beginning_balance}\")\n",
        "    elif enter_or_check == 3:\n",
        "      print(\"Today's activities\")\n",
        "      for i in range(1, len(credits)+1):\n",
        "        print(f\"Tranaction number \", i)\n",
        "        print(f\"Credit {credits[i]}\")\n",
        "        print(f\"Debit {debits[i]}\")\n",
        "        print(f\"Closing balance is {sum(credits)-sum(debits)}\")\n",
        "    elif enter_or_check == 4:\n",
        "      cash_register_on = False\n",
        "    else:\n",
        "      print(\"Invalid Input!!! Please try again!!!\")\n",
        "      continue\n",
        "\n",
        "\n",
        "\n"
      ],
      "metadata": {
        "colab": {
          "base_uri": "https://localhost:8080/"
        },
        "id": "FIUZ_Sous1bm",
        "outputId": "9757ac9d-4d80-4cbc-8c90-5c7a1b588a53"
      },
      "execution_count": 2,
      "outputs": [
        {
          "name": "stdout",
          "output_type": "stream",
          "text": [
            "Enter beginning balance: 2000\n",
            "Press '1' to enter transaction\n",
            "Press '2' to check balance\n",
            "Press '3' to print statement\n",
            "Press '4' to turn off machine\n",
            "Enter Transaction or Check Balance (1/2): 4\n"
          ]
        }
      ]
    },
    {
      "cell_type": "code",
      "source": [
        "def count_money():\n",
        "  denominations = [1, 2, 5, 10, 20, 50, 100, 200, 500]\n",
        "\n",
        "  total_money = 0\n",
        "\n",
        "  for denomination in denominations:\n",
        "    number = input(f\"Number of {denomination} rupee: \")\n",
        "    if number != \"\":\n",
        "      total_count = int(number) * denomination\n",
        "      total_money += total_count\n",
        "\n",
        "  print(total_money)\n",
        "\n",
        "count_money()"
      ],
      "metadata": {
        "colab": {
          "base_uri": "https://localhost:8080/"
        },
        "id": "ssblRVsCIKOk",
        "outputId": "2cf9c917-301a-47a4-d564-1b03ee490645"
      },
      "execution_count": null,
      "outputs": [
        {
          "output_type": "stream",
          "name": "stdout",
          "text": [
            "Number of 1 rupee: \n",
            "Number of 2 rupee: \n",
            "Number of 5 rupee: \n",
            "Number of 10 rupee: 10\n",
            "Number of 20 rupee: \n",
            "Number of 50 rupee: 2\n",
            "Number of 100 rupee: 1\n",
            "Number of 200 rupee: 1\n",
            "Number of 500 rupee: 1\n",
            "1000\n"
          ]
        }
      ]
    },
    {
      "cell_type": "code",
      "source": [],
      "metadata": {
        "id": "PSG5JVnbTJn-"
      },
      "execution_count": null,
      "outputs": []
    }
  ]
}